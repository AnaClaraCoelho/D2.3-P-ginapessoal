{
  "nbformat": 4,
  "nbformat_minor": 0,
  "metadata": {
    "colab": {
      "name": "Lógica de Programação.ipynb",
      "provenance": [],
      "authorship_tag": "ABX9TyNXmkGaAMYLhXM3CxZ54kDM",
      "include_colab_link": true
    },
    "kernelspec": {
      "name": "python3",
      "display_name": "Python 3"
    },
    "language_info": {
      "name": "python"
    }
  },
  "cells": [
    {
      "cell_type": "markdown",
      "metadata": {
        "id": "view-in-github",
        "colab_type": "text"
      },
      "source": [
        "<a href=\"https://colab.research.google.com/github/AnaClaraCoelho/D2.3-P-ginapessoal/blob/master/L%C3%B3gica_de_Programa%C3%A7%C3%A3o.ipynb\" target=\"_parent\"><img src=\"https://colab.research.google.com/assets/colab-badge.svg\" alt=\"Open In Colab\"/></a>"
      ]
    },
    {
      "cell_type": "code",
      "execution_count": null,
      "metadata": {
        "id": "_9_FA7gjTDz3"
      },
      "outputs": [],
      "source": [
        ""
      ]
    },
    {
      "cell_type": "markdown",
      "source": [
        "# Fundamentos de Lógica de Programação com Python\n"
      ],
      "metadata": {
        "id": "UjVC3n0sTH0J"
      }
    },
    {
      "cell_type": "markdown",
      "source": [
        "## Tipo Inteiro\n"
      ],
      "metadata": {
        "id": "2jdtmkI9V3td"
      }
    },
    {
      "cell_type": "code",
      "source": [
        "type(1)"
      ],
      "metadata": {
        "colab": {
          "base_uri": "https://localhost:8080/"
        },
        "id": "xkVJasy0rY-4",
        "outputId": "973bb2d1-7ba5-48c2-b577-e9496394e025"
      },
      "execution_count": 1,
      "outputs": [
        {
          "output_type": "execute_result",
          "data": {
            "text/plain": [
              "int"
            ]
          },
          "metadata": {},
          "execution_count": 1
        }
      ]
    },
    {
      "cell_type": "code",
      "source": [
        "43 / 6"
      ],
      "metadata": {
        "colab": {
          "base_uri": "https://localhost:8080/"
        },
        "id": "xjoDa0KArfiN",
        "outputId": "b1cda07b-3fae-4bff-9fb4-a76969f114dd"
      },
      "execution_count": 2,
      "outputs": [
        {
          "output_type": "execute_result",
          "data": {
            "text/plain": [
              "7.166666666666667"
            ]
          },
          "metadata": {},
          "execution_count": 2
        }
      ]
    },
    {
      "cell_type": "code",
      "source": [
        "43 // 6"
      ],
      "metadata": {
        "colab": {
          "base_uri": "https://localhost:8080/"
        },
        "id": "xYCnJ4r8sjvG",
        "outputId": "cee362fc-7879-4728-be9e-443febbd7f77"
      },
      "execution_count": 3,
      "outputs": [
        {
          "output_type": "execute_result",
          "data": {
            "text/plain": [
              "7"
            ]
          },
          "metadata": {},
          "execution_count": 3
        }
      ]
    },
    {
      "cell_type": "code",
      "source": [
        "43 % 6"
      ],
      "metadata": {
        "colab": {
          "base_uri": "https://localhost:8080/"
        },
        "id": "gyawbkWosmd3",
        "outputId": "d26ba1f5-a975-4f33-cc7b-853fc41e9a79"
      },
      "execution_count": 4,
      "outputs": [
        {
          "output_type": "execute_result",
          "data": {
            "text/plain": [
              "1"
            ]
          },
          "metadata": {},
          "execution_count": 4
        }
      ]
    },
    {
      "cell_type": "code",
      "source": [
        "2 * 10"
      ],
      "metadata": {
        "colab": {
          "base_uri": "https://localhost:8080/"
        },
        "id": "c3r5y1IdsrG1",
        "outputId": "2e1b1994-9d49-4bda-fc22-34597415d0fb"
      },
      "execution_count": 5,
      "outputs": [
        {
          "output_type": "execute_result",
          "data": {
            "text/plain": [
              "20"
            ]
          },
          "metadata": {},
          "execution_count": 5
        }
      ]
    },
    {
      "cell_type": "code",
      "source": [
        "2 ** 10"
      ],
      "metadata": {
        "colab": {
          "base_uri": "https://localhost:8080/"
        },
        "id": "GNvMrug7stlZ",
        "outputId": "04df754d-aff0-4aa0-cf51-990d5e3d2e83"
      },
      "execution_count": 6,
      "outputs": [
        {
          "output_type": "execute_result",
          "data": {
            "text/plain": [
              "1024"
            ]
          },
          "metadata": {},
          "execution_count": 6
        }
      ]
    },
    {
      "cell_type": "code",
      "source": [
        "type(1j)"
      ],
      "metadata": {
        "colab": {
          "base_uri": "https://localhost:8080/"
        },
        "id": "ArUYknZ3dm-k",
        "outputId": "606567f2-4bbf-4199-c503-25f6079e7f40"
      },
      "execution_count": 89,
      "outputs": [
        {
          "output_type": "execute_result",
          "data": {
            "text/plain": [
              "complex"
            ]
          },
          "metadata": {},
          "execution_count": 89
        }
      ]
    },
    {
      "cell_type": "markdown",
      "source": [
        "## Tipo Ponto Flutuante"
      ],
      "metadata": {
        "id": "yMB_vp7lswC3"
      }
    },
    {
      "cell_type": "code",
      "source": [
        "type(7.166666666667)"
      ],
      "metadata": {
        "colab": {
          "base_uri": "https://localhost:8080/"
        },
        "id": "DiH3pq_ts0BY",
        "outputId": "e075a59c-deea-4fc1-d933-8f21200ceec1"
      },
      "execution_count": 7,
      "outputs": [
        {
          "output_type": "execute_result",
          "data": {
            "text/plain": [
              "float"
            ]
          },
          "metadata": {},
          "execution_count": 7
        }
      ]
    },
    {
      "cell_type": "markdown",
      "source": [
        ""
      ],
      "metadata": {
        "id": "I0GDmUrcTHQv"
      }
    },
    {
      "cell_type": "markdown",
      "source": [
        "Tem as mesmas operações de tipo inteiro"
      ],
      "metadata": {
        "id": "PS-kKebytGDK"
      }
    },
    {
      "cell_type": "markdown",
      "source": [
        "## Variáveis"
      ],
      "metadata": {
        "id": "7MkHwigutXaO"
      }
    },
    {
      "cell_type": "code",
      "source": [
        "pi = 3.1415\n",
        "raio = 2\n",
        "pi * (raio **2)"
      ],
      "metadata": {
        "colab": {
          "base_uri": "https://localhost:8080/"
        },
        "id": "QirLshFAtZhP",
        "outputId": "a3b3f52f-4863-40d8-eef1-87b243a81a4d"
      },
      "execution_count": 10,
      "outputs": [
        {
          "output_type": "execute_result",
          "data": {
            "text/plain": [
              "12.566"
            ]
          },
          "metadata": {},
          "execution_count": 10
        }
      ]
    },
    {
      "cell_type": "code",
      "source": [
        "nao_existe"
      ],
      "metadata": {
        "colab": {
          "base_uri": "https://localhost:8080/",
          "height": 165
        },
        "id": "tC68F3w8tt5B",
        "outputId": "a6efe205-a628-4bf1-97f1-476041a2ac6b"
      },
      "execution_count": 11,
      "outputs": [
        {
          "output_type": "error",
          "ename": "NameError",
          "evalue": "ignored",
          "traceback": [
            "\u001b[0;31m---------------------------------------------------------------------------\u001b[0m",
            "\u001b[0;31mNameError\u001b[0m                                 Traceback (most recent call last)",
            "\u001b[0;32m<ipython-input-11-c00b538a1e2f>\u001b[0m in \u001b[0;36m<module>\u001b[0;34m()\u001b[0m\n\u001b[0;32m----> 1\u001b[0;31m \u001b[0mnao_existe\u001b[0m\u001b[0;34m\u001b[0m\u001b[0;34m\u001b[0m\u001b[0m\n\u001b[0m",
            "\u001b[0;31mNameError\u001b[0m: name 'nao_existe' is not defined"
          ]
        }
      ]
    },
    {
      "cell_type": "markdown",
      "source": [
        "## Cadeia de Caracteres(String)"
      ],
      "metadata": {
        "id": "B1M_flmxt-6J"
      }
    },
    {
      "cell_type": "code",
      "source": [
        "print('Olá Mundo')"
      ],
      "metadata": {
        "colab": {
          "base_uri": "https://localhost:8080/"
        },
        "id": "PaapEfEzuEVp",
        "outputId": "61e3ecf2-4531-4ff4-fee8-9bbdb0fce6c3"
      },
      "execution_count": 12,
      "outputs": [
        {
          "output_type": "stream",
          "name": "stdout",
          "text": [
            "Olá Mundo\n"
          ]
        }
      ]
    },
    {
      "cell_type": "code",
      "source": [
        "type('Ana')"
      ],
      "metadata": {
        "colab": {
          "base_uri": "https://localhost:8080/"
        },
        "id": "vLi9NPeJuIH7",
        "outputId": "fcd0d7ad-64cd-4bd9-9762-4bc00b25f827"
      },
      "execution_count": 14,
      "outputs": [
        {
          "output_type": "execute_result",
          "data": {
            "text/plain": [
              "str"
            ]
          },
          "metadata": {},
          "execution_count": 14
        }
      ]
    },
    {
      "cell_type": "code",
      "source": [
        "nome = 'Renzo'\n",
        "nome\n",
        "nome = \"Renzo's name\"\n",
        "nome"
      ],
      "metadata": {
        "colab": {
          "base_uri": "https://localhost:8080/",
          "height": 35
        },
        "id": "s2PKLRvzuMG_",
        "outputId": "df168a9d-a704-416b-bb10-67fc0dde5f78"
      },
      "execution_count": 16,
      "outputs": [
        {
          "output_type": "execute_result",
          "data": {
            "text/plain": [
              "\"Renzo's name\""
            ],
            "application/vnd.google.colaboratory.intrinsic+json": {
              "type": "string"
            }
          },
          "metadata": {},
          "execution_count": 16
        }
      ]
    },
    {
      "cell_type": "code",
      "source": [
        "nome = 'Renzo \\n Nucitelli'\n",
        "print(nome)"
      ],
      "metadata": {
        "colab": {
          "base_uri": "https://localhost:8080/"
        },
        "id": "oOy67kB2ul7Q",
        "outputId": "09d8210d-5e59-49a2-89df-6d54fd154a6d"
      },
      "execution_count": 17,
      "outputs": [
        {
          "output_type": "stream",
          "name": "stdout",
          "text": [
            "Renzo \n",
            " Nucitelli\n"
          ]
        }
      ]
    },
    {
      "cell_type": "code",
      "source": [
        "nome = '''Renzo\n",
        "Nucitelli'''\n",
        "print(nome)"
      ],
      "metadata": {
        "colab": {
          "base_uri": "https://localhost:8080/"
        },
        "id": "NAtGzUw6u1kn",
        "outputId": "4ac94a77-2973-4d18-c353-15e7c786250f"
      },
      "execution_count": 18,
      "outputs": [
        {
          "output_type": "stream",
          "name": "stdout",
          "text": [
            "Renzo\n",
            "Nucitelli\n"
          ]
        }
      ]
    },
    {
      "cell_type": "code",
      "source": [
        "## Tipos Booleanos"
      ],
      "metadata": {
        "id": "-Tg91OZhuVIu"
      },
      "execution_count": null,
      "outputs": []
    },
    {
      "cell_type": "code",
      "source": [
        "True, False, type(True), type(False)"
      ],
      "metadata": {
        "colab": {
          "base_uri": "https://localhost:8080/"
        },
        "id": "LTI2NlLOvAdf",
        "outputId": "0e34657e-29e4-4751-a9ac-b52d5c449c1b"
      },
      "execution_count": 20,
      "outputs": [
        {
          "output_type": "execute_result",
          "data": {
            "text/plain": [
              "(True, False, bool, bool)"
            ]
          },
          "metadata": {},
          "execution_count": 20
        }
      ]
    },
    {
      "cell_type": "code",
      "source": [
        "not True, not False "
      ],
      "metadata": {
        "colab": {
          "base_uri": "https://localhost:8080/"
        },
        "id": "Bz0D_CcuvMoG",
        "outputId": "6dc989fd-c0fd-4a66-8c37-0d380f9cd2ed"
      },
      "execution_count": 22,
      "outputs": [
        {
          "output_type": "execute_result",
          "data": {
            "text/plain": [
              "(False, True)"
            ]
          },
          "metadata": {},
          "execution_count": 22
        }
      ]
    },
    {
      "cell_type": "code",
      "source": [
        "True and True, True and False, False and True, False and False\n",
        "#Operador e"
      ],
      "metadata": {
        "colab": {
          "base_uri": "https://localhost:8080/"
        },
        "id": "PSh9cz4GvOu9",
        "outputId": "b89105d8-a1e1-4f84-f196-6ad36dbc30e6"
      },
      "execution_count": 25,
      "outputs": [
        {
          "output_type": "execute_result",
          "data": {
            "text/plain": [
              "(True, False, False, False)"
            ]
          },
          "metadata": {},
          "execution_count": 25
        }
      ]
    },
    {
      "cell_type": "code",
      "source": [
        "True or True, True or False, False or True, False or False \n",
        "#Operador ou"
      ],
      "metadata": {
        "colab": {
          "base_uri": "https://localhost:8080/"
        },
        "id": "WuTA-X0WvfNC",
        "outputId": "d3a32106-83cc-4584-febf-47280d52544e"
      },
      "execution_count": 26,
      "outputs": [
        {
          "output_type": "execute_result",
          "data": {
            "text/plain": [
              "(True, True, True, False)"
            ]
          },
          "metadata": {},
          "execution_count": 26
        }
      ]
    },
    {
      "cell_type": "code",
      "source": [
        "5 < 6, 5 >= 6, 5 == 4, 5 == 5, 5!= 4, 5 != 5"
      ],
      "metadata": {
        "colab": {
          "base_uri": "https://localhost:8080/"
        },
        "id": "kVqFVTVFv4UN",
        "outputId": "db13c5c4-2dfa-409e-cfc0-bdf7696bc431"
      },
      "execution_count": 29,
      "outputs": [
        {
          "output_type": "execute_result",
          "data": {
            "text/plain": [
              "(True, False, False, True, True, False)"
            ]
          },
          "metadata": {},
          "execution_count": 29
        }
      ]
    },
    {
      "cell_type": "markdown",
      "source": [
        "## Desvios Lógicos"
      ],
      "metadata": {
        "id": "QDVkINexwJ96"
      }
    },
    {
      "cell_type": "code",
      "source": [
        "idade = 78\n",
        "\n",
        "if idade < 18:\n",
        "  print(f'Menor de idade: {idade} ')\n",
        "  print('Acabou o f')\n",
        "elif idade >= 65:\n",
        "  print(f'Pessoa idosa: {idade}')\n",
        "else: \n",
        "  print(f'Maior de idade: {idade}')"
      ],
      "metadata": {
        "colab": {
          "base_uri": "https://localhost:8080/"
        },
        "id": "KwoEWYOywMYn",
        "outputId": "ea027caf-e96d-40b8-c571-1e34f472c0de"
      },
      "execution_count": 34,
      "outputs": [
        {
          "output_type": "stream",
          "name": "stdout",
          "text": [
            "Pessoa idosa: 78\n"
          ]
        }
      ]
    },
    {
      "cell_type": "markdown",
      "source": [
        "## Funções"
      ],
      "metadata": {
        "id": "hVGO-wjMxgT4"
      }
    },
    {
      "cell_type": "code",
      "source": [
        "def classificar(idade, nome):\n",
        "  if idade < 18:\n",
        "    return f'{nome} é menor de idade: {idade} '\n",
        "  elif idade >= 65:\n",
        "    return f'{nome} idoso(a): {idade} '\n",
        "  else: \n",
        "    return f'{nome} é maior de idade: {idade} '"
      ],
      "metadata": {
        "id": "QEfn3JDIxjiW"
      },
      "execution_count": 41,
      "outputs": []
    },
    {
      "cell_type": "code",
      "source": [
        "classificar(38,'Renzo')"
      ],
      "metadata": {
        "colab": {
          "base_uri": "https://localhost:8080/",
          "height": 35
        },
        "id": "zacuACL0yOHU",
        "outputId": "3a0fd417-15b7-448a-bec9-df4865bba4c7"
      },
      "execution_count": 42,
      "outputs": [
        {
          "output_type": "execute_result",
          "data": {
            "text/plain": [
              "'Renzo é maior de idade: 38 '"
            ],
            "application/vnd.google.colaboratory.intrinsic+json": {
              "type": "string"
            }
          },
          "metadata": {},
          "execution_count": 42
        }
      ]
    },
    {
      "cell_type": "markdown",
      "source": [
        "## Sequencias"
      ],
      "metadata": {
        "id": "JotHy7LUylCW"
      }
    },
    {
      "cell_type": "code",
      "source": [
        "lista = [1, 2.2, True, []]\n",
        "type(lista), lista"
      ],
      "metadata": {
        "colab": {
          "base_uri": "https://localhost:8080/"
        },
        "id": "n9Jcs9hdynJg",
        "outputId": "b0530e46-fe31-4d77-c0de-ad645b94068f"
      },
      "execution_count": 44,
      "outputs": [
        {
          "output_type": "execute_result",
          "data": {
            "text/plain": [
              "(list, [1, 2.2, True, []])"
            ]
          },
          "metadata": {},
          "execution_count": 44
        }
      ]
    },
    {
      "cell_type": "markdown",
      "source": [
        "## Acesso a Elementos"
      ],
      "metadata": {
        "id": "TDNm2lldy2W0"
      }
    },
    {
      "cell_type": "code",
      "source": [
        "lista[0], lista[1]  #Usa o índice"
      ],
      "metadata": {
        "colab": {
          "base_uri": "https://localhost:8080/"
        },
        "id": "mjkg1hcPy40C",
        "outputId": "9dca4ae6-940a-4119-9d6c-69f986727618"
      },
      "execution_count": 45,
      "outputs": [
        {
          "output_type": "execute_result",
          "data": {
            "text/plain": [
              "(1, 2.2)"
            ]
          },
          "metadata": {},
          "execution_count": 45
        }
      ]
    },
    {
      "cell_type": "code",
      "source": [
        "len(lista)"
      ],
      "metadata": {
        "colab": {
          "base_uri": "https://localhost:8080/"
        },
        "id": "3ojYVgw_zH11",
        "outputId": "68601474-e55b-4f74-c062-7367246f5060"
      },
      "execution_count": 46,
      "outputs": [
        {
          "output_type": "execute_result",
          "data": {
            "text/plain": [
              "4"
            ]
          },
          "metadata": {},
          "execution_count": 46
        }
      ]
    },
    {
      "cell_type": "code",
      "source": [
        "lista[len(lista) -1] #Pega o último elemento "
      ],
      "metadata": {
        "colab": {
          "base_uri": "https://localhost:8080/"
        },
        "id": "SI8ROVhFzNKg",
        "outputId": "533b2bd6-50ef-431b-fbd0-5e9445ef7c49"
      },
      "execution_count": 47,
      "outputs": [
        {
          "output_type": "execute_result",
          "data": {
            "text/plain": [
              "[]"
            ]
          },
          "metadata": {},
          "execution_count": 47
        }
      ]
    },
    {
      "cell_type": "code",
      "source": [
        "lista[-1] #Pesquisa de traz pra frente"
      ],
      "metadata": {
        "colab": {
          "base_uri": "https://localhost:8080/"
        },
        "id": "mz3di21yEta9",
        "outputId": "48a03cd5-6936-4970-bf5d-9b20a8f66770"
      },
      "execution_count": 48,
      "outputs": [
        {
          "output_type": "execute_result",
          "data": {
            "text/plain": [
              "[]"
            ]
          },
          "metadata": {},
          "execution_count": 48
        }
      ]
    },
    {
      "cell_type": "markdown",
      "source": [
        "## Fatiamento"
      ],
      "metadata": {
        "id": "1VHots-9E3P6"
      }
    },
    {
      "cell_type": "code",
      "source": [
        "a = lista[0:3] #Elementos da posição 0,1,2\n",
        "b = lista[2:]\n",
        "c = lista[:2]\n",
        "print(a,b,c)"
      ],
      "metadata": {
        "colab": {
          "base_uri": "https://localhost:8080/"
        },
        "id": "rG5scoYcE6Kj",
        "outputId": "f2ee6786-b631-4ae7-a887-72b8deaebcfb"
      },
      "execution_count": 52,
      "outputs": [
        {
          "output_type": "stream",
          "name": "stdout",
          "text": [
            "[1, 2.2, True] [True, []] [1, 2.2]\n"
          ]
        }
      ]
    },
    {
      "cell_type": "code",
      "source": [
        "numeros = list(range(1,11))\n",
        "numeros, numeros [1:7], numeros[1: 7: 2] #Salta de dois em dois"
      ],
      "metadata": {
        "colab": {
          "base_uri": "https://localhost:8080/"
        },
        "id": "eXK-94S0Fwep",
        "outputId": "cd403df7-993b-4a13-8e16-655314f96c94"
      },
      "execution_count": 57,
      "outputs": [
        {
          "output_type": "execute_result",
          "data": {
            "text/plain": [
              "([1, 2, 3, 4, 5, 6, 7, 8, 9, 10], [2, 3, 4, 5, 6, 7], [2, 4, 6])"
            ]
          },
          "metadata": {},
          "execution_count": 57
        }
      ]
    },
    {
      "cell_type": "code",
      "source": [
        "list(range(1, 32, 2))"
      ],
      "metadata": {
        "colab": {
          "base_uri": "https://localhost:8080/"
        },
        "id": "ee1qSjg4GDVX",
        "outputId": "94875666-5549-4777-cbe3-b58804d57059"
      },
      "execution_count": 58,
      "outputs": [
        {
          "output_type": "execute_result",
          "data": {
            "text/plain": [
              "[1, 3, 5, 7, 9, 11, 13, 15, 17, 19, 21, 23, 25, 27, 29, 31]"
            ]
          },
          "metadata": {},
          "execution_count": 58
        }
      ]
    },
    {
      "cell_type": "code",
      "source": [
        "renzo = 'Renzo Nucitelli'\n",
        "renzo[0]"
      ],
      "metadata": {
        "colab": {
          "base_uri": "https://localhost:8080/",
          "height": 35
        },
        "id": "hMP4NxIoGIMf",
        "outputId": "0e3f49c6-4aec-4fac-ebfd-a0c62db2973d"
      },
      "execution_count": 59,
      "outputs": [
        {
          "output_type": "execute_result",
          "data": {
            "text/plain": [
              "'R'"
            ],
            "application/vnd.google.colaboratory.intrinsic+json": {
              "type": "string"
            }
          },
          "metadata": {},
          "execution_count": 59
        }
      ]
    },
    {
      "cell_type": "markdown",
      "source": [
        "## Adição e Remoção"
      ],
      "metadata": {
        "id": "FoyBPdWhGTn2"
      }
    },
    {
      "cell_type": "markdown",
      "source": [
        "dir(numeros)"
      ],
      "metadata": {
        "id": "91xQ1a4sGXDN"
      }
    },
    {
      "cell_type": "code",
      "source": [
        "help(numeros.pop)"
      ],
      "metadata": {
        "colab": {
          "base_uri": "https://localhost:8080/"
        },
        "id": "nwsRUfm6Gd18",
        "outputId": "f2b5f187-005a-4a90-83d4-f2701c8764d2"
      },
      "execution_count": 63,
      "outputs": [
        {
          "output_type": "stream",
          "name": "stdout",
          "text": [
            "Help on built-in function pop:\n",
            "\n",
            "pop(index=-1, /) method of builtins.list instance\n",
            "    Remove and return item at index (default last).\n",
            "    \n",
            "    Raises IndexError if list is empty or index is out of range.\n",
            "\n"
          ]
        }
      ]
    },
    {
      "cell_type": "code",
      "source": [
        "numeros.pop() #Retorna o último número e tira ele da lista"
      ],
      "metadata": {
        "colab": {
          "base_uri": "https://localhost:8080/"
        },
        "id": "46YX8cRdGlJj",
        "outputId": "4e392ac6-da95-48ac-c239-1c254b484f49"
      },
      "execution_count": 66,
      "outputs": [
        {
          "output_type": "execute_result",
          "data": {
            "text/plain": [
              "9"
            ]
          },
          "metadata": {},
          "execution_count": 66
        }
      ]
    },
    {
      "cell_type": "code",
      "source": [
        "numeros"
      ],
      "metadata": {
        "colab": {
          "base_uri": "https://localhost:8080/"
        },
        "id": "Q8DqPvXAGvFO",
        "outputId": "5450f167-c734-4f00-80e4-0d809c2ef59f"
      },
      "execution_count": 65,
      "outputs": [
        {
          "output_type": "execute_result",
          "data": {
            "text/plain": [
              "[1, 2, 3, 4, 5, 6, 7, 8, 9]"
            ]
          },
          "metadata": {},
          "execution_count": 65
        }
      ]
    },
    {
      "cell_type": "code",
      "source": [
        "numeros.append(10)"
      ],
      "metadata": {
        "id": "lrngUPxSG4b5"
      },
      "execution_count": 67,
      "outputs": []
    },
    {
      "cell_type": "code",
      "source": [
        "numeros"
      ],
      "metadata": {
        "colab": {
          "base_uri": "https://localhost:8080/"
        },
        "id": "auJaCHADG7Ur",
        "outputId": "6ceb6bac-ac50-4f84-9740-e4815391d8e5"
      },
      "execution_count": 68,
      "outputs": [
        {
          "output_type": "execute_result",
          "data": {
            "text/plain": [
              "[1, 2, 3, 4, 5, 6, 7, 8, 10]"
            ]
          },
          "metadata": {},
          "execution_count": 68
        }
      ]
    },
    {
      "cell_type": "code",
      "source": [
        "numeros.extend([11,12]) #Junta uma lista com a outra"
      ],
      "metadata": {
        "id": "d-LyCqSWG_qV"
      },
      "execution_count": 69,
      "outputs": []
    },
    {
      "cell_type": "code",
      "source": [
        "numeros"
      ],
      "metadata": {
        "colab": {
          "base_uri": "https://localhost:8080/"
        },
        "id": "qroMN0yBHFZ8",
        "outputId": "fb3cc156-70eb-4a31-bec4-70aab6949840"
      },
      "execution_count": 70,
      "outputs": [
        {
          "output_type": "execute_result",
          "data": {
            "text/plain": [
              "[1, 2, 3, 4, 5, 6, 7, 8, 10, 11, 12]"
            ]
          },
          "metadata": {},
          "execution_count": 70
        }
      ]
    },
    {
      "cell_type": "code",
      "source": [
        "[1,2] +[2,4] #Concatena listas"
      ],
      "metadata": {
        "colab": {
          "base_uri": "https://localhost:8080/"
        },
        "id": "ROuxvqviHHoT",
        "outputId": "04fa3549-6a64-4e6f-c680-b83de79ddc30"
      },
      "execution_count": 71,
      "outputs": [
        {
          "output_type": "execute_result",
          "data": {
            "text/plain": [
              "[1, 2, 2, 4]"
            ]
          },
          "metadata": {},
          "execution_count": 71
        }
      ]
    },
    {
      "cell_type": "code",
      "source": [
        "[1,2] * 3 #Multiplicação é a soma várias vezes"
      ],
      "metadata": {
        "colab": {
          "base_uri": "https://localhost:8080/"
        },
        "id": "TXYzG4BGIMVa",
        "outputId": "f6826d60-465a-4308-84d4-1b6ee567046d"
      },
      "execution_count": 75,
      "outputs": [
        {
          "output_type": "execute_result",
          "data": {
            "text/plain": [
              "[1, 2, 1, 2, 1, 2]"
            ]
          },
          "metadata": {},
          "execution_count": 75
        }
      ]
    },
    {
      "cell_type": "code",
      "source": [
        "'Renzo' + 'Nucitelli'"
      ],
      "metadata": {
        "colab": {
          "base_uri": "https://localhost:8080/",
          "height": 35
        },
        "id": "PrO-KVVRIkCe",
        "outputId": "9c812a5c-26b4-4aad-9477-ab0afdf603e8"
      },
      "execution_count": 74,
      "outputs": [
        {
          "output_type": "execute_result",
          "data": {
            "text/plain": [
              "'RenzoNucitelli'"
            ],
            "application/vnd.google.colaboratory.intrinsic+json": {
              "type": "string"
            }
          },
          "metadata": {},
          "execution_count": 74
        }
      ]
    },
    {
      "cell_type": "markdown",
      "source": [
        "## Laços de Repetição"
      ],
      "metadata": {
        "id": "9fjxPcE3Iv0V"
      }
    },
    {
      "cell_type": "code",
      "source": [
        "idades = [17, 38, 70]\n",
        "classificar(idades[0], 'Renzo')"
      ],
      "metadata": {
        "colab": {
          "base_uri": "https://localhost:8080/",
          "height": 35
        },
        "id": "McntodxmJBAn",
        "outputId": "60f7d951-f100-4483-b663-000311d5984a"
      },
      "execution_count": 76,
      "outputs": [
        {
          "output_type": "execute_result",
          "data": {
            "text/plain": [
              "'Renzo é menor de idade: 17 '"
            ],
            "application/vnd.google.colaboratory.intrinsic+json": {
              "type": "string"
            }
          },
          "metadata": {},
          "execution_count": 76
        }
      ]
    },
    {
      "cell_type": "code",
      "source": [
        "for idade in idades: \n",
        "  print(classificar(idade, 'Pessoa'))"
      ],
      "metadata": {
        "colab": {
          "base_uri": "https://localhost:8080/"
        },
        "id": "ED2jbuV7JFi1",
        "outputId": "6e8e951a-347c-4d67-c27f-ac80bc4a9bb8"
      },
      "execution_count": 77,
      "outputs": [
        {
          "output_type": "stream",
          "name": "stdout",
          "text": [
            "Pessoa é menor de idade: 17 \n",
            "Pessoa é maior de idade: 38 \n",
            "Pessoa idoso(a): 70 \n"
          ]
        }
      ]
    },
    {
      "cell_type": "markdown",
      "source": [
        "## Dicionários"
      ],
      "metadata": {
        "id": "TJ16tneXJ0BA"
      }
    },
    {
      "cell_type": "code",
      "source": [
        "# Conecta uma chave a um valor"
      ],
      "metadata": {
        "id": "gv1dFd4NJ3Ww"
      },
      "execution_count": null,
      "outputs": []
    },
    {
      "cell_type": "code",
      "source": [
        "linguas = {'pt': 'Portugues', 'en': 'Inglês'}\n",
        "linguas['pt']"
      ],
      "metadata": {
        "colab": {
          "base_uri": "https://localhost:8080/",
          "height": 35
        },
        "id": "xx78XH6RJ6ed",
        "outputId": "6ab81aac-3b03-4fef-bb44-03a8bb6eadfd"
      },
      "execution_count": 78,
      "outputs": [
        {
          "output_type": "execute_result",
          "data": {
            "text/plain": [
              "'Portugues'"
            ],
            "application/vnd.google.colaboratory.intrinsic+json": {
              "type": "string"
            }
          },
          "metadata": {},
          "execution_count": 78
        }
      ]
    },
    {
      "cell_type": "code",
      "source": [
        "linguas['es'] = 'Espanhol' #Inclui um novo item\n",
        "linguas"
      ],
      "metadata": {
        "colab": {
          "base_uri": "https://localhost:8080/"
        },
        "id": "LvAxcwR0Wboy",
        "outputId": "07684140-3346-4f6f-8838-749a192df08d"
      },
      "execution_count": 82,
      "outputs": [
        {
          "output_type": "execute_result",
          "data": {
            "text/plain": [
              "{'en': 'Inglês', 'es': 'Espanhol', 'pt': 'Portugues'}"
            ]
          },
          "metadata": {},
          "execution_count": 82
        }
      ]
    },
    {
      "cell_type": "code",
      "source": [
        "for chave in linguas.keys(): #Retorna o conjunto de chaves\n",
        "  print(chave)"
      ],
      "metadata": {
        "colab": {
          "base_uri": "https://localhost:8080/"
        },
        "id": "2LWxhMFFWgHR",
        "outputId": "339ffb07-c7ce-41ee-bc35-a06d24dfc81f"
      },
      "execution_count": 84,
      "outputs": [
        {
          "output_type": "stream",
          "name": "stdout",
          "text": [
            "pt\n",
            "en\n",
            "es\n"
          ]
        }
      ]
    },
    {
      "cell_type": "code",
      "source": [
        "for valor in linguas.values(): # Retorna os valores\n",
        "  print(valor)"
      ],
      "metadata": {
        "colab": {
          "base_uri": "https://localhost:8080/"
        },
        "id": "Uv-T70jMWt9G",
        "outputId": "3ba62714-27b7-4e27-f08b-a2fa6f2697b8"
      },
      "execution_count": 87,
      "outputs": [
        {
          "output_type": "stream",
          "name": "stdout",
          "text": [
            "Portugues\n",
            "Inglês\n",
            "Espanhol\n"
          ]
        }
      ]
    },
    {
      "cell_type": "code",
      "source": [
        "for chave, valor in linguas.items():\n",
        "  print(chave,valor)"
      ],
      "metadata": {
        "colab": {
          "base_uri": "https://localhost:8080/"
        },
        "id": "LWem6S4YW-uQ",
        "outputId": "fc7302b3-ad8b-4822-e52a-d17f669be768"
      },
      "execution_count": 88,
      "outputs": [
        {
          "output_type": "stream",
          "name": "stdout",
          "text": [
            "pt Portugues\n",
            "en Inglês\n",
            "es Espanhol\n"
          ]
        }
      ]
    },
    {
      "cell_type": "markdown",
      "source": [
        "## Funções"
      ],
      "metadata": {
        "id": "XoRU2snQOorm"
      }
    },
    {
      "cell_type": "code",
      "source": [
        "def ola_mundo(nome, sobrenome='Santos'):\n",
        "  return f'Olá {nome} {sobrenome}'"
      ],
      "metadata": {
        "id": "Fu0D1S4HOr3b"
      },
      "execution_count": 1,
      "outputs": []
    },
    {
      "cell_type": "code",
      "source": [
        "ola_mundo('Ana')"
      ],
      "metadata": {
        "colab": {
          "base_uri": "https://localhost:8080/",
          "height": 35
        },
        "id": "CbOc1cmfO6S5",
        "outputId": "b763648f-b146-484b-b1f0-9397642bc162"
      },
      "execution_count": 3,
      "outputs": [
        {
          "output_type": "execute_result",
          "data": {
            "text/plain": [
              "'Olá Ana Santos'"
            ],
            "application/vnd.google.colaboratory.intrinsic+json": {
              "type": "string"
            }
          },
          "metadata": {},
          "execution_count": 3
        }
      ]
    },
    {
      "cell_type": "code",
      "source": [
        "def soma(*parcelas):\n",
        "  print(parcelas)\n",
        "  print(type(parcelas))"
      ],
      "metadata": {
        "id": "sVskZ9FTPDS4"
      },
      "execution_count": 4,
      "outputs": []
    },
    {
      "cell_type": "code",
      "source": [
        "soma(1)"
      ],
      "metadata": {
        "colab": {
          "base_uri": "https://localhost:8080/"
        },
        "id": "vhaizWCkPRl6",
        "outputId": "9ea0dd4d-3310-4daa-ca2c-fe7d3c9c57af"
      },
      "execution_count": 5,
      "outputs": [
        {
          "output_type": "stream",
          "name": "stdout",
          "text": [
            "(1,)\n",
            "<class 'tuple'>\n"
          ]
        }
      ]
    },
    {
      "cell_type": "code",
      "source": [
        "# Parâmetros variáveis"
      ],
      "metadata": {
        "id": "qyZPe6-nPevU"
      },
      "execution_count": null,
      "outputs": []
    },
    {
      "cell_type": "code",
      "source": [
        "def soma(*parcelas): # Recebe número arbitrário de parâmetros justapostos, de acordo com sua posição\n",
        "  aux = 0\n",
        "  for valor in parcelas:\n",
        "    aux += valor\n",
        "  return aux\n",
        "\n",
        "soma(2)"
      ],
      "metadata": {
        "colab": {
          "base_uri": "https://localhost:8080/"
        },
        "id": "Xx0iviXHPmf-",
        "outputId": "9aa913ce-9bbc-4092-a44e-fe54628798a9"
      },
      "execution_count": 6,
      "outputs": [
        {
          "output_type": "execute_result",
          "data": {
            "text/plain": [
              "2"
            ]
          },
          "metadata": {},
          "execution_count": 6
        }
      ]
    },
    {
      "cell_type": "code",
      "source": [
        "def f(**kwargs): # Vira um dicionário kwargs\n",
        "  print(kwargs)\n",
        "  print(type(kwargs))\n",
        "\n",
        "f()"
      ],
      "metadata": {
        "colab": {
          "base_uri": "https://localhost:8080/"
        },
        "id": "3kBC8w5ZQFui",
        "outputId": "7f64c2a5-f4f1-4ff1-d410-cc801f486a70"
      },
      "execution_count": 8,
      "outputs": [
        {
          "output_type": "stream",
          "name": "stdout",
          "text": [
            "{}\n",
            "<class 'dict'>\n"
          ]
        }
      ]
    },
    {
      "cell_type": "code",
      "source": [
        "f(nome = 'Renzo', sobrenome = 'Nucitelli')"
      ],
      "metadata": {
        "colab": {
          "base_uri": "https://localhost:8080/"
        },
        "id": "D7OoPdVLQiRn",
        "outputId": "2a5b5157-9a65-4761-e2ef-03417d0d689b"
      },
      "execution_count": 12,
      "outputs": [
        {
          "output_type": "stream",
          "name": "stdout",
          "text": [
            "{'nome': 'Renzo', 'sobrenome': 'Nucitelli'}\n",
            "<class 'dict'>\n"
          ]
        }
      ]
    },
    {
      "cell_type": "code",
      "source": [
        "args = (2,4,10)\n",
        "kwargs = {'nome': 'Renzo', 'sobrenome': 'Nucitelli'}"
      ],
      "metadata": {
        "id": "2O7gWtJTRGgm"
      },
      "execution_count": 14,
      "outputs": []
    },
    {
      "cell_type": "code",
      "source": [
        "def f(*args, **kwargs):\n",
        "  print(args)\n",
        "  print(kwargs)"
      ],
      "metadata": {
        "id": "BbbJNRHURhb7"
      },
      "execution_count": 15,
      "outputs": []
    },
    {
      "cell_type": "code",
      "source": [
        "f(1,2, nome = 'Renzo', sobrenome= 'Nuccitelli')"
      ],
      "metadata": {
        "colab": {
          "base_uri": "https://localhost:8080/"
        },
        "id": "lI4y483PbT4g",
        "outputId": "fa3fb905-c435-415d-8a19-d5fcca8e1e29"
      },
      "execution_count": 17,
      "outputs": [
        {
          "output_type": "stream",
          "name": "stdout",
          "text": [
            "(1, 2)\n",
            "{'nome': 'Renzo', 'sobrenome': 'Nuccitelli'}\n"
          ]
        }
      ]
    },
    {
      "cell_type": "code",
      "source": [
        "f(args,kwargs)"
      ],
      "metadata": {
        "colab": {
          "base_uri": "https://localhost:8080/"
        },
        "id": "EKgKNHUcc2nR",
        "outputId": "6063866f-f450-4156-8ba0-a085138311d2"
      },
      "execution_count": 19,
      "outputs": [
        {
          "output_type": "stream",
          "name": "stdout",
          "text": [
            "((2, 4, 10), {'nome': 'Renzo', 'sobrenome': 'Nucitelli'})\n",
            "{}\n"
          ]
        }
      ]
    },
    {
      "cell_type": "code",
      "source": [
        "f(*args) # Indica o desempacotamento\n",
        "f(**kwargs)"
      ],
      "metadata": {
        "colab": {
          "base_uri": "https://localhost:8080/"
        },
        "id": "2BgxJweQc-O_",
        "outputId": "5c3f4eef-fef5-46bc-bf5b-99e2a0dbefcd"
      },
      "execution_count": 20,
      "outputs": [
        {
          "output_type": "stream",
          "name": "stdout",
          "text": [
            "(2, 4, 10)\n",
            "{}\n",
            "()\n",
            "{'nome': 'Renzo', 'sobrenome': 'Nucitelli'}\n"
          ]
        }
      ]
    },
    {
      "cell_type": "markdown",
      "source": [
        "## Contagem de caracteres"
      ],
      "metadata": {
        "id": "rGHwKeDrmybS"
      }
    }
  ]
}